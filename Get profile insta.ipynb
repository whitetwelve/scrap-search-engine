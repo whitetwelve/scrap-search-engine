{
 "cells": [
  {
   "cell_type": "code",
   "execution_count": 70,
   "id": "fd0f5926",
   "metadata": {},
   "outputs": [
    {
     "name": "stdout",
     "output_type": "stream",
     "text": [
      "First Instagram link for Narendra Modi is: https://www.instagram.com/narendramodi/\n"
     ]
    }
   ],
   "source": [
    "from bs4 import BeautifulSoup\n",
    "import requests\n",
    "\n",
    "name = 'Narendra Modi'\n",
    "def get_bing_search_link(name):\n",
    "    formatted_name = name.replace(' ', '%20')\n",
    "    url = \"https://www.bing.com/search?q=\" + formatted_name + \"instagram\"\n",
    "    return url\n",
    "\n",
    "def get_first_instagram_link(search_url):\n",
    "    headers = {\n",
    "        'User-Agent': 'Mozilla/5.0 (Windows NT 10.0; Win64; x64) AppleWebKit/537.36 (KHTML, like Gecko) Chrome/98.0.4758.82',\n",
    "    }\n",
    "\n",
    "    content = requests.get(search_url, headers=headers).text\n",
    "    soup = BeautifulSoup(content, 'html.parser')\n",
    "\n",
    "    # Find the first search result link\n",
    "    first_link_container = soup.find('li', class_='b_algo')\n",
    "    first_link = first_link_container.find('a')['href'] if first_link_container else None\n",
    "\n",
    "    # Check if the link contains 'https://www.instagram.com'\n",
    "    if first_link and 'https://www.instagram.com' in first_link:\n",
    "        return first_link\n",
    "    else:\n",
    "        return None\n",
    "\n",
    "# Get the Bing search URL\n",
    "search_url = get_bing_search_link(name)\n",
    "\n",
    "# Get the first Instagram link from the search results\n",
    "first_instagram_link = get_first_instagram_link(search_url)\n",
    "\n",
    "if first_instagram_link:\n",
    "    print(\"First Instagram link for\", name, \"is:\", first_instagram_link)\n",
    "else:\n",
    "    print(\"No Instagram link found for\", name)\n"
   ]
  },
  {
   "cell_type": "code",
   "execution_count": 72,
   "id": "b2315f84",
   "metadata": {},
   "outputs": [
    {
     "name": "stdout",
     "output_type": "stream",
     "text": [
      "First facebook link for Narendra Modi is: https://www.facebook.com/narendramodi/\n"
     ]
    }
   ],
   "source": [
    "from bs4 import BeautifulSoup\n",
    "import requests\n",
    "\n",
    "name = 'Narendra Modi'\n",
    "def get_bing_search_link(name):\n",
    "    formatted_name = name.replace(' ', '%20')\n",
    "    url = \"https://www.bing.com/search?q=\" + formatted_name + \"facebook\"\n",
    "    return url\n",
    "\n",
    "def get_first_facebook_link(search_url):\n",
    "    headers = {\n",
    "        'User-Agent': 'Mozilla/5.0 (Windows NT 10.0; Win64; x64) AppleWebKit/537.36 (KHTML, like Gecko) Chrome/98.0.4758.82',\n",
    "    }\n",
    "\n",
    "    content = requests.get(search_url, headers=headers).text\n",
    "    soup = BeautifulSoup(content, 'html.parser')\n",
    "\n",
    "    # Find the first search result link\n",
    "    first_link_container = soup.find('li', class_='b_algo')\n",
    "    first_link = first_link_container.find('a')['href'] if first_link_container else None\n",
    "\n",
    "    # Check if the link contains 'https://www.facebook.com'\n",
    "    if first_link and 'https://www.facebook.com' in first_link:\n",
    "        return first_link\n",
    "    else:\n",
    "        return None\n",
    "\n",
    "# Get the Bing search URL\n",
    "search_url = get_bing_search_link(name)\n",
    "\n",
    "# Get the first Instagram link from the search results\n",
    "first_facebook_link = get_first_facebook_link(search_url)\n",
    "\n",
    "if first_facebook_link:\n",
    "    print(\"First facebook link for\", name, \"is:\", first_facebook_link)\n",
    "else:\n",
    "    print(\"No facebook link found for\", name)\n"
   ]
  },
  {
   "cell_type": "code",
   "execution_count": 74,
   "id": "2b72ae87",
   "metadata": {},
   "outputs": [
    {
     "name": "stdout",
     "output_type": "stream",
     "text": [
      "First twitter link for Narendra Modi is: https://twitter.com/narendramodi\n"
     ]
    }
   ],
   "source": [
    "from bs4 import BeautifulSoup\n",
    "import requests\n",
    "\n",
    "name = 'Narendra Modi'\n",
    "def get_bing_search_link(name):\n",
    "    formatted_name = name.replace(' ', '%20')\n",
    "    url = \"https://www.bing.com/search?q=\" + formatted_name + \"twitter\"\n",
    "    return url\n",
    "\n",
    "def get_first_twitter_link(search_url):\n",
    "    headers = {\n",
    "        'User-Agent': 'Mozilla/5.0 (Windows NT 10.0; Win64; x64) AppleWebKit/537.36 (KHTML, like Gecko) Chrome/98.0.4758.82',\n",
    "    }\n",
    "\n",
    "    content = requests.get(search_url, headers=headers).text\n",
    "    soup = BeautifulSoup(content, 'html.parser')\n",
    "\n",
    "    # Find the first search result link\n",
    "    first_link_container = soup.find('li', class_='b_algo')\n",
    "    first_link = first_link_container.find('a')['href'] if first_link_container else None\n",
    "\n",
    "    # Check if the link contains 'https://www.twitter.com'\n",
    "    if first_link and 'https://twitter.com/' in first_link:\n",
    "        return first_link\n",
    "    else:\n",
    "        return None\n",
    "\n",
    "# Get the Bing search URL\n",
    "search_url = get_bing_search_link(name)\n",
    "\n",
    "# Get the first twitter link from the search results\n",
    "first_twitter_link = get_first_twitter_link(search_url)\n",
    "\n",
    "if first_twitter_link:\n",
    "    print(\"First twitter link for\", name, \"is:\", first_twitter_link)\n",
    "else:\n",
    "    print(\"No twitter link found for\", name)\n"
   ]
  },
  {
   "cell_type": "code",
   "execution_count": null,
   "id": "6ed4603a",
   "metadata": {},
   "outputs": [],
   "source": []
  }
 ],
 "metadata": {
  "kernelspec": {
   "display_name": "Python 3 (ipykernel)",
   "language": "python",
   "name": "python3"
  },
  "language_info": {
   "codemirror_mode": {
    "name": "ipython",
    "version": 3
   },
   "file_extension": ".py",
   "mimetype": "text/x-python",
   "name": "python",
   "nbconvert_exporter": "python",
   "pygments_lexer": "ipython3",
   "version": "3.8.18"
  }
 },
 "nbformat": 4,
 "nbformat_minor": 5
}

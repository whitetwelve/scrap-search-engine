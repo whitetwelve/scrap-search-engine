{
 "cells": [
  {
   "cell_type": "code",
   "execution_count": 8,
   "id": "6484fd1c",
   "metadata": {},
   "outputs": [
    {
     "name": "stdout",
     "output_type": "stream",
     "text": [
      "WARNING:tensorflow:No training configuration found in the save file, so the model was *not* compiled. Compile it manually.\n",
      "1/1 [==============================] - 1s 1s/step\n",
      "Image: 1.jpg, Predicted Class: Narendra Modi\n",
      "1/1 [==============================] - 0s 48ms/step\n",
      "Image: 2.jpg, Predicted Class: Jokowi\n",
      "1/1 [==============================] - 0s 52ms/step\n",
      "Image: 3.jpg, Predicted Class: Jokowi\n",
      "1/1 [==============================] - 0s 49ms/step\n",
      "Image: 4.jpg, Predicted Class: Scott Morrison\n",
      "1/1 [==============================] - 0s 60ms/step\n",
      "Image: 5.jpg, Predicted Class: Scott Morrison\n"
     ]
    }
   ],
   "source": [
    "from tensorflow.keras.models import load_model\n",
    "from tensorflow.keras.preprocessing import image\n",
    "import numpy as np\n",
    "import os\n",
    "\n",
    "# Load model\n",
    "model = load_model('models/model.h5')\n",
    "\n",
    "# Directory containing testing images\n",
    "testing_dir = 'test_img/fumio'\n",
    "\n",
    "labels = ['Fumio Kishida', 'Joe Biden', 'Jokowi', 'Narendra Modi', 'Scott Morrison']\n",
    "# List all files in the testing directory\n",
    "testing_files = os.listdir(testing_dir)\n",
    "\n",
    "# Loop through each testing file\n",
    "for testing_file in testing_files:\n",
    "    # Load the image\n",
    "    img_path = os.path.join(testing_dir, testing_file)\n",
    "    img = image.load_img(img_path, target_size=(224, 224))  # Adjust target_size if needed\n",
    "    img_array = image.img_to_array(img)\n",
    "    img_array = np.expand_dims(img_array, axis=0)\n",
    "    img_array /= 255.0  # Normalize pixel values\n",
    "\n",
    "    # Make prediction\n",
    "    predictions = model.predict(img_array)\n",
    "    predicted_class = np.argmax(predictions[0])\n",
    "    \n",
    "    predicted_label = labels[predicted_class]\n",
    "    \n",
    "    # Display the result\n",
    "    print(f\"Image: {testing_file}, Predicted Class: {predicted_label}\")\n"
   ]
  },
  {
   "cell_type": "code",
   "execution_count": null,
   "id": "2066e03c",
   "metadata": {},
   "outputs": [],
   "source": [
    "# singa 3 \n",
    "# zebra 4 \n",
    "# harimau 1 \n",
    "# gajah 0 \n",
    "\n",
    "#classification 1 "
   ]
  },
  {
   "cell_type": "code",
   "execution_count": null,
   "id": "77b875e3",
   "metadata": {},
   "outputs": [],
   "source": [
    "#zebra 5\n",
    "\n",
    "#classification 2 "
   ]
  }
 ],
 "metadata": {
  "kernelspec": {
   "display_name": "Python 3 (ipykernel)",
   "language": "python",
   "name": "python3"
  },
  "language_info": {
   "codemirror_mode": {
    "name": "ipython",
    "version": 3
   },
   "file_extension": ".py",
   "mimetype": "text/x-python",
   "name": "python",
   "nbconvert_exporter": "python",
   "pygments_lexer": "ipython3",
   "version": "3.8.18"
  }
 },
 "nbformat": 4,
 "nbformat_minor": 5
}
